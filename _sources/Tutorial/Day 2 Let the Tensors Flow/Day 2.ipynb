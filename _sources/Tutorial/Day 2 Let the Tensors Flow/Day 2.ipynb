{
 "cells": [
  {
   "cell_type": "markdown",
   "metadata": {
    "id": "H3gWj9BmW0AI"
   },
   "source": [
    "<a href=\"https://colab.research.google.com/github/neurorishika/PSST/blob/master/Tutorial/Day%202%20Let%20the%20Tensors%20Flow/Day%202.ipynb\" target=\"_parent\"><img src=\"https://colab.research.google.com/assets/colab-badge.svg\" alt=\"Open In Colab\"/></a> &nbsp; <a href=\"https://kaggle.com/kernels/welcome?src=https://raw.githubusercontent.com/neurorishika/PSST/master/Tutorial/Day%202%20Let%20the%20Tensors%20Flow/Day%202.ipynb\" target=\"_parent\"><img src=\"https://kaggle.com/static/images/open-in-kaggle.svg\" alt=\"Open in Kaggle\"/></a>"
   ]
  },
  {
   "cell_type": "markdown",
   "metadata": {
    "id": "O4YE76r9WJfJ"
   },
   "source": [
    "## Day 2: Let the Tensors Flow!\n",
    "\n",
    "Welcome to Day 2! Today, we start with our discussion with an introduction to TensorFlow followed by implementation of Numerical Integration techniques in TensorFlow."
   ]
  },
  {
   "cell_type": "markdown",
   "metadata": {
    "id": "KCJzeRyRWJfK"
   },
   "source": [
    "### An Introduction to TensorFlow\n",
    "\n",
    "TensorFlow is an open-source library that was developed by researchers and engineers in the Google Brain team. TensorFlow has a number of functions that make it particularly suitable for machine learning applications. However, it is primarily an interface for numerical computation. TensorFlow was designed with scalablity in mind. Code written using TensorFlow functions can work seamlessly on single cores, multi-core shared memory processors, high-performance computer clusters, and GPUs.\n",
    "\n",
    "#### Why GPU vs CPU?\n",
    "\n",
    "<img src=\"https://raw.githubusercontent.com/neurorishika/PSST/master/Tutorial/Day%202%20Let%20the%20Tensors%20Flow/GPUvsCPU.svg\" width=\"600\"/>\n",
    "\n",
    "The answer lies in the architecture:  \n",
    "\n",
    "ALUs (Arithmetic/Logical Units, i.e. CPU Cores/CUDA Cores) are the main circuits that perform all the computations. CPUs (left panel) have fewer ALUs than GPUs (right panel). But, at the same time, the CPU cores can run at a higher clock speed and can do more complex calculations. On the other hand, GPU cores are specialized for linear algebra especially vector operations. Furthermore, a single CPU processor has common memory and control units that must be refreshed every time a new thread of operations is executed. In contrast, GPUs have a hierarchical structure with multiple memory and control units, making them faster at executing multiple threads of operations. This makes GPUs better for simple but highly repetitive tasks executed in parallel, while the CPU is suitable for large complex computations executed serially.\n",
    "\n",
    "In Summary,\n",
    "\n",
    "**CPU = Faster per Core Processing, Slow but Large Memory Buffer, Few Cores**  \n",
    "**GPU = Slower Processing, Faster but Smaller Memory Buffer, Many Cores**  \n",
    "\n",
    "Thus GPUs are optimized for large number of simple calculations done in parallel. The extent of this parallelization makes it suitable for vector/tensor manipulation.\n",
    "\n",
    "#### How TensorFlow works?\n",
    "\n",
    "All computations in TensorFlow are specified as directed graphs (nodes connected by arrows) known as data flow graphs. Nodes are operations such as addition, multiplication etc. The incoming edges for each node are tensors (scalars, vectors, matrices and higher dimensional arrays), the actual values that are operated upon. The output is also a tensor that results from the computation. For example, consider the following computation where two vectors $a$ and $b$ serve as inputs to the node, a matrix multiplication operation, that produces a matrix $c$ as output.\n",
    "\n",
    "<img src=\"https://raw.githubusercontent.com/neurorishika/PSST/master/Tutorial/Day%202%20Let%20the%20Tensors%20Flow/matmul.svg\" width=\"300\"/>\n",
    "\n",
    "Here, \"matmul\" is a node which represents the matrix multiplication operation. a and b are input matrices (2-D tensors) and c is the resultant matrix.\n",
    "\n",
    "#### Implementing a computational graph in TensorFlow"
   ]
  },
  {
   "cell_type": "code",
   "execution_count": 1,
   "metadata": {
    "colab": {
     "base_uri": "https://localhost:8080/"
    },
    "id": "L0l_P4tXWJfL",
    "outputId": "34e1a628-f780-4c74-a1e1-e76da6db2f45"
   },
   "outputs": [
    {
     "name": "stdout",
     "output_type": "stream",
     "text": [
      "[[1. 2. 3.]\n",
      " [2. 4. 6.]\n",
      " [3. 6. 9.]]\n"
     ]
    }
   ],
   "source": [
    "# First, import Numpy and Matplotlib\n",
    "import numpy as np\n",
    "import matplotlib.pyplot as plt\n",
    "\n",
    "# Import TensorFlow\n",
    "# When using TensorFlow 2.x on both CPU only or single GPU setup, \n",
    "# we suggest using TensorFlow v1 Compatibility instead as follows:\n",
    "import tensorflow.compat.v1 as tf\n",
    "tf.disable_eager_execution()\n",
    "\n",
    "# This is because of better multithreading optimization and disabled \n",
    "# eager execution in the earlier versions of TensorFlow which gives\n",
    "# better performance. \n",
    "\n",
    "# Defining Input Matrices\n",
    "a_ = [[1.],[2.],[3.]] # a 3x1 column matrix \n",
    "b_ = [[1.,2.,3.]] # a 1x3 row matrix \n",
    "\n",
    "# Creating nodes in the computation graph \n",
    "a = tf.constant(a_, dtype=tf.float64) # 3x1 tensor\n",
    "b = tf.constant(b_, dtype=tf.float64) # 1x3 tensor\n",
    "c = tf.matmul(a, b) \n",
    "\n",
    "# In TensorFlow v1.x compatible code, \n",
    "# To run the graph, we need to create a session.\n",
    "# Creating the session initializes the computational device.\n",
    "\n",
    "sess = tf.Session() # start a session\n",
    "output = sess.run(c) # compute the value of c\n",
    "sess.close() # end the session\n",
    "\n",
    "print(output)"
   ]
  },
  {
   "cell_type": "markdown",
   "metadata": {
    "id": "DE41V-v4WJfN"
   },
   "source": [
    "#### Efficient recursion with TensorFlow\n",
    "\n",
    "To iterate over a list in Python, we used a \"for\" loop. However, when we implement the same in TensorFlow, putting operations inside a loop replicates the defined computation and chains them together. This results in a long repetitive computation graph with the same operations chained one after the other, resulting in large memory usage and slow computation. TensorFlow provides an alternative with the tf.scan() method.\n",
    "\n",
    "Say, one wants to recursively apply a function on an initial value but the function takes in additional input at every recursive call, for example, to find the cumulative sum over a list. Every step adds a new element from the list to the last addition. The TensorFlow function tf.scan allows us to easily implement such an iterator."
   ]
  },
  {
   "cell_type": "code",
   "execution_count": 2,
   "metadata": {
    "colab": {
     "base_uri": "https://localhost:8080/"
    },
    "id": "QhoH0yz5WJfN",
    "outputId": "af647d03-e1be-42bd-c92a-80c60f669c4e"
   },
   "outputs": [
    {
     "name": "stdout",
     "output_type": "stream",
     "text": [
      "[ 1  3  6 10 15 21]\n",
      "[ 6  8 11 15 20 26]\n"
     ]
    }
   ],
   "source": [
    "# define the recursive function that takes in two values the\n",
    "# accumulated value and the additional input from a list.\n",
    "def recursive_addition(accumulator,new_element):\n",
    "    \"\"\"\n",
    "    This function takes in two values the accumulated value and the additional input which is added onto the accumulated value.\n",
    "    \"\"\"\n",
    "    return accumulator+new_element\n",
    "\n",
    "# define the list over which we iterate\n",
    "elems = np.array([1, 2, 3, 4, 5, 6])\n",
    "\n",
    "# tf.scan takes in three inputs: the recursive function, the \n",
    "# list to iterate over and the initial value. If an initial \n",
    "# value is not provided, its taken as the first element of elems.\n",
    "\n",
    "# accumulate with no initializer\n",
    "cum_sum_a = tf.scan(recursive_addition, elems) \n",
    "# accumulate with initializer as the number 5\n",
    "cum_sum_b = tf.scan(recursive_addition, elems, tf.constant(5,dtype=tf.int64))\n",
    "\n",
    "# To automatically close the session after computation in TensorFlow 1.13, Use:\n",
    "# with tf.Session() as sess:\n",
    "#    output = sess.run(c) \n",
    "with tf.Session() as sess:\n",
    "    output_a = sess.run(cum_sum_a)\n",
    "    output_b = sess.run(cum_sum_b)\n",
    "\n",
    "print(output_a)\n",
    "print(output_b)"
   ]
  },
  {
   "cell_type": "markdown",
   "metadata": {
    "id": "05M1dTk_WJfO"
   },
   "source": [
    "As an **Exercise** use tf.scan to compute the fibonacci sequence."
   ]
  },
  {
   "cell_type": "markdown",
   "metadata": {
    "id": "Eo-fDzZ6WJfO"
   },
   "source": [
    "#### Euler Integration Function in TensorFlow\n",
    "We now implement Euler's method using tf.scan to iterate over the time array. Note that the function scan\\_func that defines each step of Euler's method, is now an input to tf.scan."
   ]
  },
  {
   "cell_type": "code",
   "execution_count": 3,
   "metadata": {
    "id": "tJBjJaEMWJfP"
   },
   "outputs": [],
   "source": [
    "def tf_check_type(t, y0): # Ensure Input is Correct\n",
    "    \"\"\"\n",
    "    This function checks the type of the input to ensure that it is a floating point number.\n",
    "    \"\"\"\n",
    "    if not (y0.dtype.is_floating and t.dtype.is_floating): \n",
    "        # The datatype of any tensor t is accessed by t.dtype\n",
    "        raise TypeError('Error: y0 and t must be floating point numbers')\n",
    "\n",
    "class _Tf_Integrator():\n",
    "    \"\"\"\n",
    "    A class for integrating a function using the Euler method in TensorFlow.\n",
    "    \"\"\"\n",
    "    def integrate(self, func, y0, t): \n",
    "        \"\"\"\n",
    "        This function integrates a function func using the Euler method in TensorFlow.\n",
    "        \n",
    "        Parameters:\n",
    "        -----------\n",
    "        func: function\n",
    "            The function to be integrated.\n",
    "        y0: float\n",
    "            The initial condition.\n",
    "        t: numpy array\n",
    "            The time array.\n",
    "        \"\"\"\n",
    "        time_delta_grid = t[1:] - t[:-1]  # define the time step at each point\n",
    "        \n",
    "        def scan_func(y, t_dt):  # define the scan function that performs the integration step\n",
    "            \"\"\"\n",
    "            This function performs the integration step.\n",
    "\n",
    "            Parameters:\n",
    "            -----------\n",
    "            y: float\n",
    "                The value of y at which the function is being evaluated.\n",
    "            t_dt: (float, float)\n",
    "                The time point and time step at which the function is being evaluated.\n",
    "            \"\"\"\n",
    "            t, dt = t_dt # unpack the time point and time step\n",
    "            dy = dt*func(y,t) # compute the change in function at the current time point\n",
    "            return y + dy # return the new value of y\n",
    "        \n",
    "        # iterating over (a,b) where a and b are lists of same size\n",
    "        # results in the ith accumulative step in tf.scan receiving\n",
    "        # the ith elements of a and b zipped together\n",
    "        \n",
    "        y = tf.scan(scan_func, (t[:-1], time_delta_grid),y0) # perform the integration using tf.scan\n",
    "        return tf.concat([[y0], y], axis=0) # add the initial condition at the beginning and return the values\n",
    "\n",
    "def tf_odeint_euler(func, y0, t):\n",
    "    \"\"\"\n",
    "    This function integrates the function func using the Euler method implemented in the _Tf_Integrator class.\n",
    "\n",
    "    Parameters:\n",
    "    -----------\n",
    "    func: function\n",
    "        The function to be integrated.\n",
    "    y0: float\n",
    "        The initial condition.\n",
    "    t: numpy array\n",
    "        The time array.\n",
    "    \"\"\"\n",
    "    # Ensure Input is in the form of TensorFlow Tensors\n",
    "    t = tf.convert_to_tensor(t, name='t')\n",
    "    y0 = tf.convert_to_tensor(y0, name='y0')\n",
    "    tf_check_type(y0,t) # Ensure Input is of the correct type\n",
    "    return _Tf_Integrator().integrate(func,y0,t)"
   ]
  },
  {
   "cell_type": "markdown",
   "metadata": {
    "id": "WZQsZE8bWJfQ"
   },
   "source": [
    "#### Running the TensorFlow Euler Integrator"
   ]
  },
  {
   "cell_type": "code",
   "execution_count": 4,
   "metadata": {
    "colab": {
     "base_uri": "https://localhost:8080/",
     "height": 279
    },
    "id": "nc4LCSACWJfR",
    "outputId": "83cc33bc-6402-4e9f-ca40-064da1ef05ac"
   },
   "outputs": [
    {
     "data": {
      "image/png": "[encoded data removed]",
      "text/plain": [
       "<Figure size 432x288 with 1 Axes>"
      ]
     },
     "metadata": {
      "needs_background": "light"
     },
     "output_type": "display_data"
    }
   ],
   "source": [
    "# Define a function using Tensorflow math operations. This creates a computational graph.\n",
    "\n",
    "def f(X,t):\n",
    "    # extracting a single value eg. X[0] returns a single value but\n",
    "    # we require a tensor, so we extract a range with one element.\n",
    "    x = X[0:1] \n",
    "    y = X[1:2]\n",
    "    out = tf.concat([x-y,y-x],0)\n",
    "    return out\n",
    "\n",
    "y0 = tf.constant([1,0], dtype=tf.float64)\n",
    "\n",
    "epsilon = 0.01\n",
    "t = np.arange(0,2,epsilon)\n",
    "\n",
    "# Define the final value (output of scan) that we wish to compute as a variable\n",
    "\n",
    "state = tf_odeint_euler(f,y0,t)\n",
    "\n",
    "# Start a TF session and evaluate state\n",
    "with tf.Session() as sess:\n",
    "    state = sess.run(state)\n",
    "\n",
    "# Plot the solution\n",
    "plt.plot(t[::5],state.T[0,::5],\".\",label=\"Eulers Solution for x\")\n",
    "plt.plot(t[::5],state.T[1,::5],\".\",label=\"Eulers Solution for y\")\n",
    "plt.xlabel(\"t\")\n",
    "plt.ylabel(\"x\")\n",
    "plt.legend()\n",
    "plt.show()"
   ]
  },
  {
   "cell_type": "markdown",
   "metadata": {
    "id": "CKlXy7x6WJfR"
   },
   "source": [
    "#### RK4 Integration Function in TensorFlow\n",
    "\n",
    "Now, we implement the RK4 integrator in TensorFlow. Note that here we replace the single step iterator used for the Euler's with a four step RK4 iterator. In addition, to make the code more modular, we define a function \\_step\\_func() that is called by scan\\_func and calculates the next step of the RK4 integrator. The rest of the program remains the same as the Euler's method implemented above."
   ]
  },
  {
   "cell_type": "code",
   "execution_count": 5,
   "metadata": {
    "id": "kugvj_l0WJfS"
   },
   "outputs": [],
   "source": [
    "def tf_check_type(t, y0): # Ensure Input is Correct\n",
    "    \"\"\"\n",
    "    This function checks the type of the input to ensure that it is a floating point number.\n",
    "    \"\"\"\n",
    "    if not (y0.dtype.is_floating and t.dtype.is_floating):\n",
    "        raise TypeError('Error: y0 and t must be floating point numbers')\n",
    "\n",
    "class _Tf_Integrator():\n",
    "    \"\"\"\n",
    "    This class implements the Runge-Kutta 4th order method in TensorFlow.\n",
    "    \"\"\"\n",
    "    def integrate(self, func, y0, t):\n",
    "        \"\"\"\n",
    "        This function integrates a function func using the Runge-Kutta 4th order method in TensorFlow.\n",
    "\n",
    "        Parameters:\n",
    "        -----------\n",
    "        func: function\n",
    "            The function to be integrated.\n",
    "        y0: float\n",
    "            The initial condition.\n",
    "        t: numpy array\n",
    "            The time array.\n",
    "        \"\"\"\n",
    "        time_delta_grid = t[1:] - t[:-1] # define the time step at each point\n",
    "        \n",
    "        def scan_func(y, t_dt): # define the scan function that performs the integration step\n",
    "            \"\"\"\n",
    "            This function performs the integration step.\n",
    "            \n",
    "            Parameters:\n",
    "            -----------\n",
    "            y: float\n",
    "                The value of y at which the function is being evaluated.\n",
    "            t_dt: (float, float)\n",
    "                The time point and time step at which the function is being evaluated.\n",
    "            \"\"\"\n",
    "            t, dt = t_dt # unpack the time point and time step\n",
    "            dy = self._step_func(func,t,dt,y) # Make code more modular.\n",
    "            return y + dy\n",
    "\n",
    "        y = tf.scan(scan_func, (t[:-1], time_delta_grid),y0)\n",
    "        return tf.concat([[y0], y], axis=0)\n",
    "    \n",
    "    def _step_func(self, func, t, dt, y):\n",
    "        \"\"\"\n",
    "        This function determines the value of the integration step.\n",
    "\n",
    "        Parameters:\n",
    "        -----------\n",
    "        func: function\n",
    "            The function to be integrated.\n",
    "        t: float\n",
    "            The time point at which the function is being evaluated.\n",
    "        dt: float\n",
    "            The time step at which the function is being integrated.\n",
    "        y: float\n",
    "            The value of y at which the function is being evaluated.\n",
    "        \"\"\"\n",
    "        k1 = func(y, t)\n",
    "        half_step = t + dt / 2\n",
    "        dt_cast = tf.cast(dt, y.dtype) # Failsafe\n",
    "\n",
    "        k2 = func(y + dt_cast * k1 / 2, half_step)\n",
    "        k3 = func(y + dt_cast * k2 / 2, half_step)\n",
    "        k4 = func(y + dt_cast * k3, t + dt)\n",
    "        return tf.add_n([k1, 2 * k2, 2 * k3, k4]) * (dt_cast / 6) # add all update terms\n",
    "    \n",
    "def tf_odeint_rk4(func, y0, t):\n",
    "    \"\"\"\n",
    "    This function integrates the function func using the Runge-Kutta 4th order method implemented in the _Tf_Integrator class.\n",
    "\n",
    "    Parameters:\n",
    "    -----------\n",
    "    func: function\n",
    "        The function to be integrated.\n",
    "    y0: float\n",
    "        The initial condition.\n",
    "    t: numpy array\n",
    "        The time array.\n",
    "    \"\"\"\n",
    "    # Ensure Input is in the form of TensorFlow Tensors\n",
    "    t = tf.convert_to_tensor(t, name='t')\n",
    "    y0 = tf.convert_to_tensor(y0, name='y0')\n",
    "    tf_check_type(y0,t) # Ensure Input is of the correct type\n",
    "    return _Tf_Integrator().integrate(func,y0,t)"
   ]
  },
  {
   "cell_type": "code",
   "execution_count": 6,
   "metadata": {
    "colab": {
     "base_uri": "https://localhost:8080/",
     "height": 279
    },
    "id": "N4s8oZxxWJfS",
    "outputId": "769289c0-a844-4192-e5d4-213299cd59ce",
    "scrolled": true
   },
   "outputs": [
    {
     "data": {
      "image/png": "[encoded data removed]",
      "text/plain": [
       "<Figure size 432x288 with 1 Axes>"
      ]
     },
     "metadata": {
      "needs_background": "light"
     },
     "output_type": "display_data"
    }
   ],
   "source": [
    "# Define a function using Tensorflow math operations. This creates a computational graph.\n",
    "\n",
    "def f(X,t):\n",
    "    # extracting a single value eg. X[0] returns a single value but\n",
    "    # we require a tensor, so we extract a range with one element.\n",
    "    x = X[0:1] \n",
    "    y = X[1:2]\n",
    "    out = tf.concat([x-y,y-x],0)\n",
    "    return out\n",
    "\n",
    "y0 = tf.constant([1,0], dtype=tf.float64)\n",
    "\n",
    "epsilon = 0.01\n",
    "t = np.arange(0,2,epsilon)\n",
    "\n",
    "# Define the final value (output of scan) that we wish to compute as a variable\n",
    "\n",
    "state = tf_odeint_rk4(f,y0,t)\n",
    "\n",
    "# Start a TF session and evaluate state\n",
    "with tf.Session() as sess:\n",
    "    state = sess.run(state)\n",
    "\n",
    "# Plot the solution\n",
    "plt.plot(t[::5],state.T[0,::5],\".\",label=\"RK4 Solution for x\")\n",
    "plt.plot(t[::5],state.T[1,::5],\".\",label=\"RK4 Solution for y\")\n",
    "plt.xlabel(\"t\")\n",
    "plt.ylabel(\"x\")\n",
    "plt.legend()\n",
    "plt.show()"
   ]
  },
  {
   "cell_type": "markdown",
   "metadata": {
    "id": "O6YJElEBWJfT"
   },
   "source": [
    "**Exercise** Simulate the non-linear Lorentz Attractor using Euler Method and RK4 on TensorFlow which is given by the equations:\n",
    "\n",
    "$$\\frac{dx}{dt}=\\sigma(y-x)$$\n",
    "\n",
    "$$\\frac{dy}{dt}=x(\\rho-z)-y$$\n",
    "\n",
    "$$\\frac{dz}{dt}=xy-\\beta z$$\n",
    "\n",
    "Use the values $\\sigma =10$, $\\beta =\\frac{8}{3}$, $\\rho =28$. You can try simulating this system at two nearby starting conditions and comment on the difference.\n",
    "\n",
    "<img src=\"https://raw.githubusercontent.com/neurorishika/PSST/master/Tutorial/Day%202%20Let%20the%20Tensors%20Flow/lorenz.svg\" width=\"400\"/>"
   ]
  },
  {
   "cell_type": "code",
   "execution_count": 7,
   "metadata": {},
   "outputs": [],
   "source": [
    "#####################################\n",
    "# Problem Hint for the Euler Method #\n",
    "#####################################\n",
    "\n",
    "# # Note: Uncommment and complete the code below to practice the Euler method to simulate a lorenz attractor.\n",
    "\n",
    "# epsilon  = ... # define the resolution of the simulation\n",
    "# t = ... # define the time array\n",
    "\n",
    "# sigma = ... # define the sigma parameter\n",
    "# beta = ... # define the beta parameter\n",
    "# rho = ... # define the rho parameter\n",
    "\n",
    "# def F(X,t): # Create a new function F(X,t) where X is a vector of the form [theta,omega] and t is the time. \n",
    "#     \"\"\"\n",
    "#     This function defines the differential equation for the lorenz attractor.\n",
    "\n",
    "#     Parameters:\n",
    "#     -----------\n",
    "#     X: numpy array\n",
    "#         The state vector of the lorenz attractor given by [x,y,z].\n",
    "#     t: float\n",
    "#         The time.\n",
    "#     \"\"\"\n",
    "#     x = ... # extract the x variable from the state vector\n",
    "#     y = ... # extract the y variable from the state vector\n",
    "#     z = ... # extract the z variable from the state vector\n",
    "#     dx = ... # define the derivative of x\n",
    "#     dy = ... # define the derivative of y\n",
    "#     dz = ... # define the derivative of z\n",
    "#     return np.array([dx,dy,dz]) # return the derivative of the state vector\n",
    "\n",
    "# solution = tf_odeint_euler(...) # Use the Euler method to solve the pendulum problem\n",
    "\n",
    "# # Plot the solution in 3D\n",
    "# from mpl_toolkits import mplot3d\n",
    "\n",
    "# ax = plt.axes(projection='3d')\n",
    "# ax.plot3D(solution[0,:],solution[1,:],solution[2,:],label=\"Euler Solution for x,y,z in 3D\")\n",
    "# plt.xlabel(\"t\")\n",
    "# plt.ylabel(\"theta/omega\")\n",
    "# plt.legend()\n",
    "# plt.show()\n",
    "\n",
    "# # Now try to implement the Runge-Kutta of order 4 method to solve the same problem."
   ]
  },
  {
   "cell_type": "markdown",
   "metadata": {},
   "source": [
    "### Additional Information about Computational Hardware:\n",
    "\n",
    "#### About TPU (Tensor Processing Units):\n",
    "In recent years, there have been a lot of advancements in the hardware available for large-scale computing. In 2016, Google announced a new hardware architecture known as TPUs (Tensor Processing Units) that were specifically designed for use with the TensorFlow library. TPUs utilize a specialized Matrix Multiplication Unit that maximizes parallel computation and are capable of much faster matrix multiplication than CPUs or GPUs. As a result, TPUs can further speed up the the integration of ODEs and other numerical simulations. While, the code we presented in this tutorial can be run on a system with available TPUs, the allocation of tasks to different TPU cores is not currently automated and must be done manually. And so, using TPUs efficiently may require a few additional steps which are outside the scope of this tutorial. However, as TPUs are becoming more popular, it is likely that future versions of the TensorFlow library will be able to automatically allocate tasks to different TPU cores."
   ]
  }
 ],
 "metadata": {
  "colab": {
   "name": "Day 2.ipynb",
   "provenance": []
  },
  "interpreter": {
   "hash": "67b97a161adb399ddc7ce6202c1fbd410e218862b7c30dc6e7156a57afb12a02"
  },
  "kernelspec": {
   "display_name": "Python 3 (ipykernel)",
   "language": "python",
   "name": "python3"
  },
  "language_info": {
   "codemirror_mode": {
    "name": "ipython",
    "version": 3
   },
   "file_extension": ".py",
   "mimetype": "text/x-python",
   "name": "python",
   "nbconvert_exporter": "python",
   "pygments_lexer": "ipython3",
   "version": "3.9.7"
  },
  "latex_envs": {
   "LaTeX_envs_menu_present": true,
   "autoclose": false,
   "autocomplete": true,
   "bibliofile": "biblio.bib",
   "cite_by": "apalike",
   "current_citInitial": 1,
   "eqLabelWithNumbers": true,
   "eqNumInitial": 1,
   "hotkeys": {
    "equation": "Ctrl-E",
    "itemize": "Ctrl-I"
   },
   "labels_anchors": false,
   "latex_user_defs": false,
   "report_style_numbering": false,
   "user_envs_cfg": false
  }
 },
 "nbformat": 4,
 "nbformat_minor": 1
}
