{
  "cells": [
    {
      "cell_type": "markdown",
      "metadata": {
        "id": "rolpXbud5axT"
      },
      "source": [
        "<a href=\"https://colab.research.google.com/github/neurorishika/PSST/blob/master/Tutorial/Example%20Implementation%20Locust%20AL/Example.ipynb\" target=\"_parent\"><img src=\"https://colab.research.google.com/assets/colab-badge.svg\" alt=\"Open In Colab\"/></a> &nbsp; <a href=\"https://kaggle.com/kernels/welcome?src=https://raw.githubusercontent.com/neurorishika/PSST/master/Tutorial/Example%20Implementation%20Locust%20AL/Example.ipynb\" target=\"_parent\"><img src=\"https://kaggle.com/static/images/open-in-kaggle.svg\" alt=\"Open in Kaggle\"/></a>"
      ]
    },
    {
      "cell_type": "markdown",
      "metadata": {
        "id": "Dm8JgotGtYqz"
      },
      "source": [
        "##  Day 6: (Example Implementation) Into the Mind of a Locust \n",
        "\n",
        "Once we have figured out how to implement neurons and networks, we can try to simulate a model of a small part of a Locust's nervous system."
      ]
    },
    {
      "cell_type": "code",
      "execution_count": 1,
      "metadata": {
        "cellView": "form",
        "colab": {
          "base_uri": "https://localhost:8080/"
        },
        "id": "LJYNtkVYvCAT",
        "outputId": "f81c144f-ae3b-4da3-dee1-ec9463104a68"
      },
      "outputs": [
        {
          "name": "stderr",
          "output_type": "stream",
          "text": [
            "'wget' is not recognized as an internal or external command,\n",
            "operable program or batch file.\n"
          ]
        }
      ],
      "source": [
        "#@markdown Import required files and code from previous tutorials\n",
        "\n",
        "!wget --no-check-certificate \\\n",
        "  \"https://raw.githubusercontent.com/neurorishika/PSST/master/Tutorial/Example%20Implementation%20Locust%20AL/tf_integrator.py\" \\\n",
        "  -O \"tf_integrator.py\""
      ]
    },
    {
      "cell_type": "markdown",
      "metadata": {
        "id": "u8uG0NNNtYq1"
      },
      "source": [
        "### A Locust Antennal Lobe\n",
        "\n",
        "To an insect, the sense of smell is its source of essential information about their surroundings. Whether it is getting attracted to a potential mate or finding a source of nutrition, odorants are known to trigger various behaviors in insects. Because of their simpler nervous systems and amazing ability to detect and track odors, insects are used to study olfaction to a great extent. Their most surprising ability is to track odors even in the very noisy natural environments. To study this neurobiology look a the dynamics of the networks involved in the processing of chemosensory information to the insect.\n",
        "\n",
        "Odorants are detected by receptors in olfactory receptor neurons (ORNs) which undergo a depolarization as a result. The antennal lobe (AL) in the insects' brain is considered to be the primary structure that receives input from ORNs within the antennae. It is the consensus that, since different sets of ORNs are activated by different odors, the coding of the odor identity is combinatorial in nature. Inside the Antennal Lobe, the input from the the ORNs is converted into complex long-lived dynamic transients and complex interacting signals which output to the mushroom body in the insect brain. Moreover, the network in the Locust Antennal Lobe seems to be a random network rather than a genetically encoded network with a particular fixed topology.\n",
        "\n",
        "The Locust AL has two types of neurons:\n",
        "1. **Inhibitory Local Interneurons (LN):** They produce GABAergic Synapses ie. GABAa (Fast) and Metabotropic GABA (Slow). They synapse onto other Local Interneurons and to Projection Neurons. A subset of them receive inputs from the ORNs.\n",
        "2. **Projection Neurons (PN):** They produce Cholinergic Synapses ie. Acetylcholine. They synapse onto local interneurons and also project to the mushroom body outside the AL and act as the output for the AL. A subset of them also receive inputs from the ORNs.\n",
        "\n",
        "\n",
        "#### A Model of the Locust AL\n",
        "\n",
        "The model described here is based on Bazhenov 2001b.\n",
        "\n",
        "<img src=\"https://raw.githubusercontent.com/neurorishika/PSST/master/Tutorial/Example%20Implementation%20Locust%20AL/model.png\" width=\"400\"/>\n",
        "\n",
        "**Total Number of Neurons** = 120  \n",
        "**Number of PNs** = 90    \n",
        "**Number of LNs** = 30  \n",
        "\n",
        "The connectivity is random with different connection probabilities as described below:  \n",
        "\n",
        "**Probability(PN to PN)** = 0.0  \n",
        "**Probability(PN to LN)** = 0.5  \n",
        "**Probability(LN to LN)** = 0.5  \n",
        "**Probability(LN to PN)** = 0.5  \n",
        "\n",
        "33% of all neurons receive input from ORNs.\n",
        "\n",
        "##### Projection Neurons\n",
        "\n",
        "The projection neurons have an hodgkin huxley dynamics as described below:\n",
        "\n",
        "$$C_m \\frac{dV_{PN}}{dt} = I_{stim} - I_{L} - I_{Na} - I_{K} - I_{A} - I_{KL} - I_{GABA_a} -I_{Ach}$$\n",
        "\n",
        "It expresses voltage-gated $Na^+$ channels, voltage-gated $K^+$ channels, transient $K^+$ channels, $K^+$ leak channels and general leak channel. The Acetylcholine current is always zero in this model as PNs do not project to PNs.\n",
        "\n",
        "The PN currents and differential equation for dynamics are described below:\n",
        "\n",
        "<img src=\"https://raw.githubusercontent.com/neurorishika/PSST/master/Tutorial/Example%20Implementation%20Locust%20AL/PNeq.png\" width=\"1000\"/>\n",
        "\n",
        "##### Local Interneurons\n",
        "\n",
        "The Local Interneurons have an dynamics somewhat similar to hodgkin huxley as described below:  \n",
        "\n",
        "$$C_m \\frac{dV_{LN}}{dt} = I_{stim} - I_{L} - I_{Ca} - I_{K} - I_{K(Ca)} - I_{KL} - I_{GABA_a} -I_{Ach}$$\n",
        "\n",
        "Unlike the Projection neuron, the local interneurons do not have the normal sodium potassium channel action potentials. They expresse voltage-gated $Ca^{2+}$ channels, voltage-gated $K^+$ channels, Calcium dependent $K^+$ channels, $K^+$ leak channels and general leak channel. Here, opposite interactions between K and Ca channels cause longer extended action potentials. The dynamics in intracellular $Ca^{2+}$ causes changes in K(Ca) channel dynamics allowing for adaptive behavior in the neurons.\n",
        "\n",
        "The LN currents and differential equation for dynamics are described below:\n",
        "\n",
        "<img src=\"https://raw.githubusercontent.com/neurorishika/PSST/master/Tutorial/Example%20Implementation%20Locust%20AL/LNeq.png\" width=\"1000\"/>\n",
        "\n",
        "##### Synaptic Dynamics\n",
        "\n",
        "Finally, the equation of the dynamics of the two types of synapses are given below.\n",
        "\n",
        "<img src=\"https://raw.githubusercontent.com/neurorishika/PSST/master/Tutorial/Example%20Implementation%20Locust%20AL/syneq.png\" width=\"1000\"/>\n",
        "\n",
        "#### Importing Nerveflow\n",
        "\n",
        "Once the Integrator is saved in tf_integrator.py in the same directory as the Notebook, we can start importing the essentials including the integrator. "
      ]
    },
    {
      "cell_type": "code",
      "execution_count": 2,
      "metadata": {
        "colab": {
          "base_uri": "https://localhost:8080/"
        },
        "id": "4FR_xgwGtYq4",
        "outputId": "e6ac048b-88ff-474f-808f-90a5751d49c0"
      },
      "outputs": [],
      "source": [
        "import numpy as np\n",
        "import tensorflow.compat.v1 as tf\n",
        "tf.disable_eager_execution()\n",
        "import tf_integrator as tf_int\n",
        "import matplotlib.pyplot as plt\n",
        "import seaborn as sns"
      ]
    },
    {
      "cell_type": "markdown",
      "metadata": {
        "id": "54nRA3GPtYq6"
      },
      "source": [
        "#### Defining Simulation Parameters\n",
        "\n",
        "Now we can start defining the parameters of the model. First, we define the length of the simulation and the time resolution and create the time array t."
      ]
    },
    {
      "cell_type": "code",
      "execution_count": 3,
      "metadata": {
        "id": "M2C-ovQ3tYq7"
      },
      "outputs": [],
      "source": [
        "sim_time = 1000 # simulation time (in ms)\n",
        "sim_res = 0.01 # simulation resolution (in ms)\n",
        "\n",
        "t = np.arange(0.0, sim_time, sim_res) # time array"
      ]
    },
    {
      "cell_type": "markdown",
      "metadata": {
        "id": "ZWMsFJv1tYq8"
      },
      "source": [
        "Now we start implementing the details of the network. Since there are two different cell types they may have different properties/parameters. As you might remember, our parallelization paradigm allows us to have different values of parameters for different neurons/synapses by having parameter vectors. To make it easy for us to manipulate the information it is best for us to have a convection for splitting parameters into cell types.\n",
        "\n",
        "Here, we follow the convention that the first 90 values of each common parameter will be for PN cell type and the rest 30 will be for LN cell type. Unique parameters are defined whenever necessary."
      ]
    },
    {
      "cell_type": "code",
      "execution_count": 4,
      "metadata": {
        "id": "mMmxq2xJtYq9"
      },
      "outputs": [],
      "source": [
        "# Defining Neuron Counts\n",
        "\n",
        "n_n = int(120)                       # number of neurons\n",
        "\n",
        "p_n = int(90)                        # number of PNs\n",
        "l_n = int(30)                        # number of LNs\n",
        "\n",
        "C_m  = [1.0]*n_n                     # Capacitance\n",
        "\n",
        "# Defining Common Current Parameters #\n",
        "\n",
        "g_K  = [10.0]*n_n                    # K conductance\n",
        "g_L  = [0.15]*n_n                    # Leak conductance\n",
        "g_KL  = [0.05]*p_n + [0.02]*l_n      # K leak conductance (first 90 for PNs and next 30 for LNs)\n",
        "\n",
        "E_K  = [-95.0]*n_n                   # K Potential\n",
        "E_L  = [-55.0]*p_n + [-50.0]*l_n     # Leak Potential (first 90 for PNs and next 30 for LNs)\n",
        "E_KL  = [-95.0]*n_n                  # K Leak Potential\n",
        "\n",
        "# Defining Cell Type Specific Current Parameters #\n",
        "\n",
        "## PNs\n",
        "\n",
        "g_Na = [100.0]*p_n                   # Na conductance\n",
        "g_A  = [10.0]*p_n                    # Transient K conductance\n",
        "\n",
        "E_Na = [50.0]*p_n                    # Na Potential\n",
        "E_A  = [-95.0]*p_n                   # Transient K Potential\n",
        "\n",
        "## LNs\n",
        "\n",
        "g_Ca = [3.0]*l_n                     # Ca conductance\n",
        "g_KCa = [0.3]*l_n                    # Ca dependent K conductance\n",
        "\n",
        "E_Ca = [140.0]*l_n                   # Ca Potential\n",
        "E_KCa = [-90]*l_n                    # Ca dependent K Potential\n",
        "\n",
        "A_Ca = [2*(10**(-4))]*l_n            # Ca outflow rate\n",
        "Ca0 = [2.4*(10**(-4))]*l_n           # Equilibrium Calcium Concentration\n",
        "t_Ca = [150]*l_n                     # Ca recovery time constant\n",
        "\n",
        "## Defining Firing Thresholds ##\n",
        "\n",
        "F_b = [0.0]*n_n                      # Fire threshold\n",
        "\n",
        "## Defining Acetylcholine Synapse Connectivity ##\n",
        "\n",
        "ach_mat = np.zeros((n_n,n_n))                                 # Ach Synapse Connectivity Matrix\n",
        "ach_mat[p_n:,:p_n] = np.random.choice([0.,1.],size=(l_n,p_n)) # 50% probability of PN -> LN\n",
        "np.fill_diagonal(ach_mat,0.)                                  # Remove all self connection\n",
        "\n",
        "## Defining Acetylcholine Synapse Parameters ##\n",
        "\n",
        "n_syn_ach = int(np.sum(ach_mat))     # Number of Acetylcholine (Ach) Synapses \n",
        "alp_ach = [10.0]*n_syn_ach           # Alpha for Ach Synapse\n",
        "bet_ach = [0.2]*n_syn_ach            # Beta for Ach Synapse\n",
        "t_max = 0.3                          # Maximum Time for Synapse\n",
        "t_delay = 0                          # Axonal Transmission Delay\n",
        "A = [0.5]*n_n                        # Synaptic Response Strength\n",
        "g_ach = [0.35]*p_n+[0.3]*l_n         # Ach Conductance\n",
        "E_ach = [0.0]*n_n                    # Ach Potential\n",
        "\n",
        "## Defining GABAa Synapse Connectivity ##\n",
        "\n",
        "fgaba_mat = np.zeros((n_n,n_n))                              # GABAa Synapse Connectivity Matrix\n",
        "fgaba_mat[:,p_n:] = np.random.choice([0.,1.],size=(n_n,l_n)) # 50% probability of LN -> LN/PN\n",
        "np.fill_diagonal(fgaba_mat,0.)                               # No self connection\n",
        "\n",
        "## Defining GABAa Synapse Parameters ##\n",
        "    \n",
        "n_syn_fgaba = int(np.sum(fgaba_mat)) # Number of GABAa (fGABA) Synapses\n",
        "alp_fgaba = [10.0]*n_syn_fgaba       # Alpha for fGABA Synapse\n",
        "bet_fgaba = [0.16]*n_syn_fgaba       # Beta for fGABA Synapse\n",
        "V0 = [-20.0]*n_n                     # Decay Potential\n",
        "sigma = [1.5]*n_n                    # Decay Time Constant\n",
        "g_fgaba = [0.8]*p_n+[0.8]*l_n        # fGABA Conductance\n",
        "E_fgaba = [-70.0]*n_n                # fGABA Potential"
      ]
    },
    {
      "cell_type": "markdown",
      "metadata": {
        "id": "0VoNnGEstYq-"
      },
      "source": [
        "#### Visualizing the Connectivity\n",
        "\n",
        "Now that we have a connectivity matrix, we can visualize the connectivity as a heatmap. For this, we combine the two synapse connectivity matrix to get a single matrix that has +1 for excitatory connection and -1 for inhibitory connections. Then we use seaborn library to get a clean heatmap."
      ]
    },
    {
      "cell_type": "code",
      "execution_count": 5,
      "metadata": {
        "colab": {
          "base_uri": "https://localhost:8080/",
          "height": 413
        },
        "id": "bp2GktHOtYrA",
        "outputId": "214de6bc-eb7c-45a4-c5ae-2906ba2b779f"
      },
      "outputs": [
        {
          "data": {
            "image/png": "[encoded data removed]",
            "text/plain": [
              "<Figure size 504x432 with 2 Axes>"
            ]
          },
          "metadata": {
            "needs_background": "light"
          },
          "output_type": "display_data"
        }
      ],
      "source": [
        "plt.figure(figsize=(7,6))\n",
        "sns.heatmap(ach_mat-fgaba_mat, cmap=\"RdBu\")\n",
        "plt.xlabel(\"Presynaptic Neuron Number\")\n",
        "plt.ylabel(\"Postsynaptic Neuron Number\")\n",
        "plt.title(\"Network Connectivity\")\n",
        "plt.show()"
      ]
    },
    {
      "cell_type": "markdown",
      "metadata": {
        "id": "yDYz8NAEtYrC"
      },
      "source": [
        "#### Defining the functions to evaluate dynamics in gating variables\n",
        "\n",
        "Now, we define all the functions that will evaluate the equilibium value and time constants of gating variable for different channels."
      ]
    },
    {
      "cell_type": "code",
      "execution_count": 6,
      "metadata": {
        "id": "NdxwrQJDtYrD"
      },
      "outputs": [],
      "source": [
        "def K_prop(V):\n",
        "    \"\"\"\n",
        "    This function determines the K-channel gating dynamics.\n",
        "\n",
        "    Parameters:\n",
        "    -----------\n",
        "    V: float\n",
        "        The membrane potential.\n",
        "    \"\"\"\n",
        "    T = 22 # Temperature\n",
        "    phi = 3.0**((T-36.0)/10) # Temperature-correction factor\n",
        "    V_ = V-(-50) # Voltage baseline shift\n",
        "    \n",
        "    alpha_n = 0.02*(15.0 - V_)/(tf.exp((15.0 - V_)/5.0) - 1.0) # Alpha for the K-channel gating variable n\n",
        "    beta_n = 0.5*tf.exp((10.0 - V_)/40.0) # Beta for the K-channel gating variable n\n",
        "    \n",
        "    t_n = 1.0/((alpha_n+beta_n)*phi) # Time constant for the K-channel gating variable n\n",
        "    n_0 = alpha_n/(alpha_n+beta_n) # Steady-state value for the K-channel gating variable n\n",
        "    \n",
        "    return n_0, t_n\n",
        "\n",
        "\n",
        "def Na_prop(V):\n",
        "    \"\"\"\n",
        "    This function determines the Na-channel gating dynamics.\n",
        "    \n",
        "    Parameters:\n",
        "    -----------\n",
        "    V: float\n",
        "        The membrane potential.\n",
        "    \"\"\"\n",
        "    T = 22 # Temperature \n",
        "    phi = 3.0**((T-36)/10)  # Temperature-correction factor\n",
        "    V_ = V-(-50) # Voltage baseline shift\n",
        "    \n",
        "    alpha_m = 0.32*(13.0 - V_)/(tf.exp((13.0 - V_)/4.0) - 1.0) # Alpha for the Na-channel gating variable m\n",
        "    beta_m = 0.28*(V_ - 40.0)/(tf.exp((V_ - 40.0)/5.0) - 1.0) # Beta for the Na-channel gating variable m\n",
        "    \n",
        "    alpha_h = 0.128*tf.exp((17.0 - V_)/18.0) # Alpha for the Na-channel gating variable h\n",
        "    beta_h = 4.0/(tf.exp((40.0 - V_)/5.0) + 1.0) # Beta for the Na-channel gating variable h\n",
        "    \n",
        "    t_m = 1.0/((alpha_m+beta_m)*phi) # Time constant for the Na-channel gating variable m\n",
        "    t_h = 1.0/((alpha_h+beta_h)*phi) # Time constant for the Na-channel gating variable h\n",
        "    \n",
        "    m_0 = alpha_m/(alpha_m+beta_m) # Steady-state value for the Na-channel gating variable m\n",
        "    h_0 = alpha_h/(alpha_h+beta_h) # Steady-state value for the Na-channel gating variable h\n",
        "    \n",
        "    return m_0, t_m, h_0, t_h\n",
        "\n",
        "\n",
        "def A_prop(V):\n",
        "    \"\"\"\n",
        "    This function determines the Transient K-channel gating dynamics.\n",
        "\n",
        "    Parameters:\n",
        "    -----------\n",
        "    V: float\n",
        "        The membrane potential.\n",
        "    \"\"\"\n",
        "    T = 36 # Temperature\n",
        "    \n",
        "    phi = 3.0**((T-23.5)/10) # Temperature-correction factor\n",
        "    \n",
        "    m_0 = 1/(1+tf.exp(-(V+60.0)/8.5)) # Steady-state value for the Transient K-current gating variable m\n",
        "    h_0 = 1/(1+tf.exp((V+78.0)/6.0))  # Steady-state value for the Transient K-current gating variable h\n",
        "    \n",
        "    tau_m = 1/(tf.exp((V+35.82)/19.69) + tf.exp(-(V+79.69)/12.7) + 0.37) / phi # Time constant for the Transient K-current gating variable m\n",
        "    \n",
        "    t1 = 1/(tf.exp((V+46.05)/5.0) + tf.exp(-(V+238.4)/37.45)) / phi \n",
        "    t2 = (19.0/phi) * tf.ones(tf.shape(V),dtype=V.dtype)\n",
        "    tau_h = tf.where(tf.less(V,-63.0),t1,t2) # Time constant for the Transient K-current gating variable h\n",
        "    \n",
        "    return m_0, tau_m, h_0, tau_h \n",
        "\n",
        "\n",
        "def Ca_prop(V):\n",
        "    \"\"\"\n",
        "    This function determines the Calcium-channel gating dynamics.\n",
        "\n",
        "    Parameters:\n",
        "    -----------\n",
        "    V: float\n",
        "        The membrane potential.\n",
        "    \"\"\"\n",
        "    m_0 = 1/(1+tf.exp(-(V+20.0)/6.5)) # Steady-state value for the Calcium-channel gating variable m\n",
        "    h_0 = 1/(1+tf.exp((V+25.0)/12))   # Steady-state value for the Calcium-channel gating variable h\n",
        "    \n",
        "    tau_m = 1.5 # Time constant for the Calcium-channel gating variable m\n",
        "    tau_h = 0.3*tf.exp((V-40.0)/13.0) + 0.002*tf.exp((60.0-V)/29) # Time constant for the Calcium-channel gating variable h\n",
        "    \n",
        "    return m_0, tau_m, h_0, tau_h\n",
        "\n",
        "def KCa_prop(Ca):\n",
        "    \"\"\"\n",
        "    This function determines the Calcium-dependent K-channel gating dynamics.\n",
        "    \n",
        "    Parameters:\n",
        "    -----------\n",
        "    Ca: float\n",
        "        The concentration of Calcium.\n",
        "    \"\"\"\n",
        "    T = 26 # Temperature\n",
        "    \n",
        "    phi = 2.3**((T-23.0)/10) # Temperature-correction factor\n",
        "    \n",
        "    alpha = 0.01*Ca # Alpha for the Calcium-dependent K-channel gating variable m\n",
        "    beta = 0.02 # Beta for the Calcium-dependent K-channel gating variable m\n",
        "    \n",
        "    tau_m = 1/((alpha+beta)*phi) # Time constant for the Calcium-dependent K-channel gating variable\n",
        "    m_0 = alpha/(alpha+beta) # Steady-state value for the Calcium-dependent K-channel gating variable\n",
        "    \n",
        "    return m_0, tau_m"
      ]
    },
    {
      "cell_type": "markdown",
      "metadata": {
        "id": "JO8i_jXgtYrE"
      },
      "source": [
        "#### Defining Channel Currents, Synaptic Potentials, and Input Currents (Injection Current)\n",
        "\n",
        "Just like the normal hodgkin-huxley network, we define the different functions that evaluate the different neuronal currents."
      ]
    },
    {
      "cell_type": "code",
      "execution_count": 7,
      "metadata": {
        "id": "fZA3r8sgtYrE"
      },
      "outputs": [],
      "source": [
        "# NEURONAL CURRENTS\n",
        "\n",
        "# Common Currents #\n",
        "\n",
        "def I_K(V, n):\n",
        "    \"\"\"\n",
        "    This function determines the K-channel current.\n",
        "\n",
        "    Parameters:\n",
        "    -----------\n",
        "    V: float\n",
        "        The membrane potential.\n",
        "    n: float \n",
        "        The K-channel gating variable n.\n",
        "    \"\"\"\n",
        "    return g_K  * n**4 * (V - E_K)\n",
        "\n",
        "def I_L(V):\n",
        "    \"\"\"\n",
        "    This function determines the Leak current.\n",
        "\n",
        "    Parameters:\n",
        "    -----------\n",
        "    V: float\n",
        "        The membrane potential.\n",
        "    \"\"\"\n",
        "    return g_L * (V - E_L)\n",
        "\n",
        "def I_KL(V):\n",
        "    \"\"\"\n",
        "    This function determines the potassium-leak current.\n",
        "\n",
        "    Parameters:\n",
        "    -----------\n",
        "    V: float\n",
        "        The membrane potential.\n",
        "    \"\"\"\n",
        "    return g_KL * (V - E_KL)\n",
        "\n",
        "# PN Currents #\n",
        "\n",
        "def I_Na(V, m, h):\n",
        "    \"\"\"\n",
        "    This function determines the Na-channel current.\n",
        "\n",
        "    Parameters:\n",
        "    -----------\n",
        "    V: float\n",
        "        The membrane potential.\n",
        "    m: float\n",
        "        The Na-channel gating variable m.\n",
        "    h: float\n",
        "        The Na-channel gating variable h.\n",
        "    \"\"\"\n",
        "    return g_Na * m**3 * h * (V - E_Na)\n",
        "\n",
        "def I_A(V, m, h):\n",
        "    \"\"\"\n",
        "    This function determines the Transient K-channel current.\n",
        "\n",
        "    Parameters:\n",
        "    -----------\n",
        "    V: float\n",
        "        The membrane potential.\n",
        "    m: float\n",
        "        The Transient K-channel gating variable m.\n",
        "    h: float\n",
        "        The Transient K-channel gating variable h.\n",
        "    \"\"\"\n",
        "    return g_A * m**4 * h * (V - E_A)\n",
        "\n",
        "# LN Currents #\n",
        "\n",
        "def I_Ca(V, m, h):\n",
        "    \"\"\"\n",
        "    This function determines the Calcium-channel current.\n",
        "\n",
        "    Parameters:\n",
        "    -----------\n",
        "    V: float\n",
        "        The membrane potential.\n",
        "    m: float\n",
        "        The Calcium-channel gating variable m.\n",
        "    h: float\n",
        "        The Calcium-channel gating variable h.\n",
        "    \"\"\"\n",
        "    return g_Ca * m**2 * h * (V - E_Ca)\n",
        "\n",
        "def I_KCa(V, m):\n",
        "    \"\"\"\n",
        "    This function determines the Calcium-dependent K-channel current.\n",
        "\n",
        "    Parameters:\n",
        "    -----------\n",
        "    V: float\n",
        "        The membrane potential.\n",
        "    m: float\n",
        "        The Calcium-dependent K-channel gating variable m.\n",
        "    \"\"\"\n",
        "    T = 23 # Temperature\n",
        "    phi = 2.3**((T-23.0)/10) # Temperature-correction factor\n",
        "    return g_KCa * m * phi * (V - E_KCa)\n",
        "\n",
        "# SYNAPTIC CURRENTS\n",
        "\n",
        "def I_ach(o,V):\n",
        "    \"\"\"\n",
        "    This function returns the synaptic current for the Acetylcholine (Ach) synapses for each neuron.\n",
        "\n",
        "    Parameters:\n",
        "    -----------\n",
        "    o: float\n",
        "        The fraction of open acetylcholine channels for each synapse.\n",
        "    V: float\n",
        "        The membrane potential of the postsynaptic neuron.\n",
        "    \"\"\"\n",
        "    o_ = tf.constant([0.0]*n_n**2,dtype=tf.float64) # Initialize the flattened matrix to store the synaptic open fractions\n",
        "    ind = tf.boolean_mask(tf.range(n_n**2),ach_mat.reshape(-1) == 1) # Get the indices of the synapses that exist\n",
        "    o_ = tf.tensor_scatter_nd_update(o_,tf.reshape(ind,[-1,1]),o) # Update the flattened open fraction matrix\n",
        "    o_ = tf.transpose(tf.reshape(o_,(n_n,n_n))) # Reshape and Transpose the matrix to be able to multiply it with the conductance matrix\n",
        "    return tf.reduce_sum(tf.transpose((o_*(V-E_ach))*g_ach),1) # Calculate the synaptic current\n",
        "\n",
        "def I_fgaba(o,V):\n",
        "    \"\"\"\n",
        "    This function returns the synaptic current for the GABA synapses for each neuron.\n",
        "\n",
        "    Parameters:\n",
        "    -----------\n",
        "    o: float\n",
        "        The fraction of open GABA channels for each synapse.\n",
        "    V: float\n",
        "        The membrane potential of the postsynaptic neuron.\n",
        "    \"\"\"\n",
        "    o_ = tf.constant([0.0]*n_n**2,dtype=tf.float64) # Initialize the flattened matrix to store the synaptic open fractions\n",
        "    ind = tf.boolean_mask(tf.range(n_n**2),fgaba_mat.reshape(-1) == 1) # Get the indices of the synapses that exist\n",
        "    o_ = tf.tensor_scatter_nd_update(o_,tf.reshape(ind,[-1,1]),o) # Update the flattened open fraction matrix\n",
        "    o_ = tf.transpose(tf.reshape(o_,(n_n,n_n))) # Reshape and Transpose the matrix to be able to multiply it with the conductance matrix\n",
        "    return tf.reduce_sum(tf.transpose((o_*(V-E_fgaba))*g_fgaba),1) # Calculate the synaptic current\n",
        "\n",
        "# INPUT CURRENTS\n",
        "\n",
        "def I_inj_t(t):\n",
        "    \"\"\"\n",
        "    This function returns the external current to be injected into the network at any time step from the current_input matrix.\n",
        "\n",
        "    Parameters:\n",
        "    -----------\n",
        "    t: float\n",
        "        The time at which the current injection is being performed.\n",
        "    \"\"\"\n",
        "    # Turn indices to integer and extract from matrix\n",
        "    index = tf.cast(t/sim_res,tf.int32)\n",
        "    return tf.constant(current_input.T,dtype=tf.float64)[index]"
      ]
    },
    {
      "cell_type": "markdown",
      "metadata": {
        "id": "rqKPEPDztYrF"
      },
      "source": [
        "#### Putting Together the Dynamics\n",
        "\n",
        "The construction of the function that evaluates the dynamical equations is similar to the normal HH Model but we have a small difference. That is, not all neurons share the same dynamical equations, they have some common terms and some terms that are unique. The procedure we deal with this is briefly explained below.\n",
        "\n",
        "$$\\frac{d\\vec{X_A}}{dt} = f(\\vec{X_{A_\\alpha}},\\vec{X_{A_\\beta}}...)+g_A(\\vec{X_{A_\\gamma}}...)\\ \\ \\ \\ \\ \\ \\frac{d\\vec{X_B}}{dt} = f(\\vec{X_{B_\\alpha}},\\vec{X_{B_\\beta}}...)+g_B(\\vec{X_{B_\\gamma}}...)$$\n",
        "$$To\\ evaluate\\ \\frac{d\\vec{X}}{dt}\\ where\\ \\vec{X}=[\\vec{X_A},\\vec{X_B}], Find:$$\n",
        "\n",
        "$$\\Big(\\frac{dX_A}{dt}\\Big)_{unique}=g_A(\\vec{X_{A_\\gamma}}..)\\ \\ \\ \\ \\ \\ \\ \\ \\ \\ \\ \\ \\ \\Big(\\frac{dX_B}{dt}\\Big)_{unique}=g_B(\\vec{X_{B_\\gamma}}..)$$\n",
        "  \n",
        "$$\\Big(\\frac{dX}{dt}\\Big)_{unique}=\\Big[\\Big(\\frac{dX_A}{dt}\\Big)_{unique},\\Big(\\frac{dX_B}{dt}\\Big)_{unique}\\Big]$$\n",
        "\n",
        "\n",
        "$$\\frac{dX}{dt}=\\Big(\\frac{dX}{dt}\\Big)_{unique}+f(\\vec{X_{\\alpha}},\\vec{X_{\\beta}}...)$$\n",
        "\n",
        "This way, we can minimize the number of computations required for the simulation and all the computations are highly parallelizeable by TensorFlow. As for the vector we follow the convention given below:\n",
        "\n",
        "* Voltage(PN)[90]\n",
        "* Voltage(LN)[30]\n",
        "* K-gating(ALL)[120]\n",
        "* Na-activation-gating(PN)[90]\n",
        "* Na-inactivation-gating(PN)[90]\n",
        "* Transient-K-activation-gating(PN)[90]\n",
        "* Transient-K-inactivation-gating(PN)[90]\n",
        "* Ca-activation-gating(LN)[30]\n",
        "* Ca-inactivation-gating(LN)[30]\n",
        "* K(Ca)-gating(LN)[30]\n",
        "* Ca-concentration(LN)[30]\n",
        "* Acetylcholine Open Fraction[n_syn_ach]\n",
        "* GABAa Open Fraction[n_syn_fgaba]\n",
        "* Fire-times[120]"
      ]
    },
    {
      "cell_type": "code",
      "execution_count": 8,
      "metadata": {
        "id": "IJ1hvNv6tYrG"
      },
      "outputs": [],
      "source": [
        "def dXdt(X, t): # X is the state vector\n",
        "    \n",
        "    V_p   = X[0   : p_n] # Voltage(PN)\n",
        "    V_l   = X[p_n : n_n] # Voltage(LN)\n",
        "    \n",
        "    n_K   = X[n_n : 2*n_n] # K-gating(ALL)\n",
        "    \n",
        "    m_Na  = X[2*n_n : 2*n_n + p_n] # Na-activation-gating(PN)\n",
        "    h_Na  = X[2*n_n + p_n : 2*n_n + 2*p_n] # Na-inactivation-gating(PN)\n",
        "\n",
        "    m_A   = X[2*n_n + 2*p_n : 2*n_n + 3*p_n] # Transient-K-activation-gating(PN)\n",
        "    h_A   = X[2*n_n + 3*p_n : 2*n_n + 4*p_n] # Transient-K-inactivation-gating(PN)\n",
        "    \n",
        "    m_Ca  = X[2*n_n + 4*p_n : 2*n_n + 4*p_n + l_n] # Ca-activation-gating(LN)\n",
        "    h_Ca  = X[2*n_n + 4*p_n + l_n: 2*n_n + 4*p_n + 2*l_n] # Ca-inactivation-gating(LN)\n",
        "    \n",
        "    m_KCa = X[2*n_n + 4*p_n + 2*l_n : 2*n_n + 4*p_n + 3*l_n] # K(Ca)-gating(LN)\n",
        "    Ca    = X[2*n_n + 4*p_n + 3*l_n: 2*n_n + 4*p_n + 4*l_n] # Ca-concentration(LN)\n",
        "\n",
        "    o_ach = X[6*n_n : 6*n_n + n_syn_ach] # Acetylcholine Open Fraction\n",
        "    o_fgaba = X[6*n_n + n_syn_ach : 6*n_n + n_syn_ach + n_syn_fgaba] # GABAa Open Fraction\n",
        "    \n",
        "    fire_t = X[-n_n:] # Fire-times\n",
        "    \n",
        "    V = X[:n_n] # Overall Voltage (PN + LN)\n",
        "    \n",
        "    \n",
        "    # Evaluate Differentials for Gating variables and Ca concentration\n",
        "    \n",
        "    n0,tn = K_prop(V) # Calculate the dynamics of the K-channel gating variable n for each neuron\n",
        "    \n",
        "    dn_k = - (1.0/tn)*(n_K-n0) # The derivative of the K-channel gating variable n for each neuron\n",
        "    \n",
        "    m0,tm,h0,th = Na_prop(V_p) # Calculate the dynamics of the Na-channel gating variables m, h for each neuron\n",
        "    \n",
        "    dm_Na = - (1.0/tm)*(m_Na-m0) # The derivative of the Na-channel gating variable m for each neuron\n",
        "    dh_Na = - (1.0/th)*(h_Na-h0) # The derivative of the Na-channel gating variable h for each neuron\n",
        "\n",
        "    m0,tm,h0,th = A_prop(V_p) # Calculate the dynamics of the transient K-channel gating variables m, h for each neuron\n",
        "    \n",
        "    dm_A = - (1.0/tm)*(m_A-m0) # The derivative of the transient K-channel gating variable m for each neuron\n",
        "    dh_A = - (1.0/th)*(h_A-h0) # The derivative of the transient K-channel gating variable h for each neuron\n",
        "    \n",
        "    m0,tm,h0,th = Ca_prop(V_l) # Calculate the dynamics of the Ca-channel gating variables m, h for each neuron\n",
        "    \n",
        "    dm_Ca = - (1.0/tm)*(m_Ca-m0) # The derivative of the Ca-channel gating variable m for each neuron\n",
        "    dh_Ca = - (1.0/th)*(h_Ca-h0) # The derivative of the Ca-channel gating variable h for each neuron\n",
        "     \n",
        "    m0,tm = KCa_prop(Ca) # Calculate the dynamics of the K(Ca)-channel gating variable m for each neuron\n",
        "    \n",
        "    dm_KCa = - (1.0/tm)*(m_KCa-m0) # The derivative of the K(Ca)-channel gating variable m for each neuron\n",
        "    \n",
        "    dCa = - np.array(A_Ca)*I_Ca(V_l,m_Ca,h_Ca) - (Ca - Ca0)/t_Ca  # The derivative of the Ca-concentration for each neuron\n",
        "    \n",
        "    # Evaluate differential for Voltage\n",
        "    \n",
        "    # The dynamical equation for voltage has both unique and common parts.\n",
        "    # Thus, as discussed above, we first evaluate the unique parts of Cm*dV/dT for LNs and PNs.\n",
        "    \n",
        "    CmdV_p = - I_Na(V_p, m_Na, h_Na) - I_A(V_p, m_A, h_A) \n",
        "    CmdV_l = - I_Ca(V_l, m_Ca, h_Ca) - I_KCa(V_l, m_KCa)\n",
        "    \n",
        "    # Once we have that, we merge the two into a single 120-vector.\n",
        "    \n",
        "    CmdV = tf.concat([CmdV_p,CmdV_l],0)\n",
        "    \n",
        "    # Finally we add the common currents and divide by Cm to get dV/dt.\n",
        "    \n",
        "    dV = (I_inj_t(t) + CmdV - I_K(V, n_K) - I_L(V) - I_KL(V) - I_ach(o_ach,V) - I_fgaba(o_fgaba,V)) / C_m # The derivative of the membrane potential for all of the neurons\n",
        "    \n",
        "    # Evaluate dynamics in synapses\n",
        "    \n",
        "    A_ = tf.constant(A,dtype=tf.float64) # Get the synaptic response strengths of the pre-synaptic neurons\n",
        "    Z_ = tf.zeros(tf.shape(A_),dtype=tf.float64) # Create a zero matrix of the same size as A_\n",
        "    \n",
        "    T_ach = tf.where(tf.logical_and(tf.greater(t,fire_t+t_delay),tf.less(t,fire_t+t_max+t_delay)),A_,Z_)  # Find which synapses would have received an presynaptic spike in the past window and assign them the corresponding synaptic response strength\n",
        "    T_ach = tf.multiply(tf.constant(ach_mat,dtype=tf.float64),T_ach) # Find the postsynaptic neurons that would have received an presynaptic spike in the past window\n",
        "    T_ach = tf.boolean_mask(tf.reshape(T_ach,(-1,)),ach_mat.reshape(-1) == 1) # Get the pre-synaptic activation function for only the existing synapses\n",
        "    \n",
        "    do_achdt = alp_ach*(1.0-o_ach)*T_ach - bet_ach*o_ach  # Calculate the derivative of the open fraction of the acetylcholine synapses\n",
        "     \n",
        "    ## Updation for o_gaba ##\n",
        "          \n",
        "    T_gaba = 1.0/(1.0+tf.exp(-(V-V0)/sigma)) # Calculate the presynaptic activation function for all n_n neurons\n",
        "    T_gaba = tf.multiply(tf.constant(fgaba_mat,dtype=tf.float64),T_gaba) # Find the postsynaptic neurons that would have received an presynaptic spike in the past window\n",
        "    T_gaba = tf.boolean_mask(tf.reshape(T_gaba,(-1,)),fgaba_mat.reshape(-1) == 1) # Get the pre-synaptic activation function for only the existing synapses\n",
        "    \n",
        "    do_fgabadt = alp_fgaba*(1.0-o_fgaba)*T_gaba - bet_fgaba*o_fgaba # Calculate the derivative of the open fraction of the GABAa synapses\n",
        "   \n",
        "    dfdt = tf.zeros(tf.shape(fire_t),dtype=fire_t.dtype) # zero change in fire_t as it will be updated by the modified integrator\n",
        "\n",
        "    # Combine to a single vector\n",
        "    \n",
        "    out = tf.concat([dV,         dn_k,\n",
        "                     dm_Na,      dh_Na,\n",
        "                     dm_A,       dh_A,\n",
        "                     dm_Ca,      dh_Ca,\n",
        "                     dm_KCa,     \n",
        "                     dCa,        do_achdt,\n",
        "                     do_fgabadt, dfdt   ],0)\n",
        "    return out"
      ]
    },
    {
      "cell_type": "markdown",
      "metadata": {
        "id": "PVA94WUstYrH"
      },
      "source": [
        "#### Creating the Current Input and Run the Simulation\n",
        "\n",
        "We will run an 1000 ms simulation where we will give input to randomly chosen 33% of the neurons. The input will be an saturating increase to 10 from 100 ms to 600 ms and an exponetial decrease to 0 after 600 ms. "
      ]
    },
    {
      "cell_type": "code",
      "execution_count": 9,
      "metadata": {
        "id": "pw75DOE_tYrH"
      },
      "outputs": [],
      "source": [
        "current_input = np.zeros((n_n,t.shape[0]))\n",
        "\n",
        "# Create the input shape\n",
        "\n",
        "y = np.where(t<600,(1-np.exp(-(t-100)/75)),0.9996*np.exp(-(t-600)/150))\n",
        "y = np.where(t<100,np.zeros(t.shape),y)\n",
        "\n",
        "# Randomly choose 33% indices from 120\n",
        "\n",
        "p_input = 0.33\n",
        "input_neurons = np.random.choice(np.array(range(n_n)),int(p_input*n_n),replace=False)\n",
        "\n",
        "# Assign input shape to chosen indices\n",
        "\n",
        "current_input[input_neurons,:]= 10*y"
      ]
    },
    {
      "cell_type": "markdown",
      "metadata": {
        "id": "EvI85GvYtYrH"
      },
      "source": [
        "#### Create the initial state vector and add some jitter to break symmetry\n",
        "\n",
        "We create the initial state vector, initializing voltage to $-70\\ mV$, gating variables and open fractions to $0.0$, and calcium concentration to $2.4\\times10^{-4}$ and add 1% gaussian noise to the data."
      ]
    },
    {
      "cell_type": "code",
      "execution_count": 10,
      "metadata": {
        "id": "UdyPHD7LtYrH"
      },
      "outputs": [],
      "source": [
        "state_vector =  [-70]* n_n + [0.0]* (n_n + 4*p_n + 3*l_n) + [2.4*(10**(-4))]*l_n + [0]*(n_syn_ach+n_syn_fgaba) + [-(sim_time+1)]*n_n\n",
        "state_vector = np.array(state_vector)\n",
        "state_vector = state_vector + 0.01*state_vector*np.random.normal(size=state_vector.shape)\n",
        "init_state = tf.constant(state_vector, dtype=tf.float64)"
      ]
    },
    {
      "cell_type": "markdown",
      "metadata": {
        "id": "rBokuhpstYrI"
      },
      "source": [
        "#### Running the simulation and Interpreting the Output"
      ]
    },
    {
      "cell_type": "markdown",
      "metadata": {},
      "source": [
        "*Note: The following cell can take a few minutes to run the simulation depending on your device.*"
      ]
    },
    {
      "cell_type": "code",
      "execution_count": 11,
      "metadata": {
        "colab": {
          "base_uri": "https://localhost:8080/"
        },
        "id": "5GPgv5OltYrI",
        "outputId": "0391e0bb-c97e-44f7-c1a0-10242de9cb79"
      },
      "outputs": [],
      "source": [
        "state = tf_int.odeint(dXdt, init_state, t, n_n, F_b) # Solve the differential equation\n",
        "\n",
        "with tf.Session() as sess: # Run the simulation\n",
        "    state = sess.run(state)\n",
        "    sess.close()"
      ]
    },
    {
      "cell_type": "markdown",
      "metadata": {
        "id": "acMNvxDbtYrJ"
      },
      "source": [
        "To visualize the data, we plot the voltage traces of the PNs (Neurons 0 to 89) and LNs (Neurons 90 to 119) as a Voltage vs Time heatmap, peaks in the data are the action potentials."
      ]
    },
    {
      "cell_type": "code",
      "execution_count": 12,
      "metadata": {
        "colab": {
          "base_uri": "https://localhost:8080/",
          "height": 441
        },
        "id": "IGdYkVrDtYrJ",
        "outputId": "8d5d5127-0c29-40f4-fa2c-06c682d388cf",
        "scrolled": false
      },
      "outputs": [
        {
          "data": {
            "image/png": "[encoded data removed]",
            "text/plain": [
              "<Figure size 864x432 with 2 Axes>"
            ]
          },
          "metadata": {
            "needs_background": "light"
          },
          "output_type": "display_data"
        }
      ],
      "source": [
        "# Plot the membrane potentials for the PNs\n",
        "plt.figure(figsize=(12,6))\n",
        "sns.heatmap(state[::100,:90].T,xticklabels=100,yticklabels=5,cmap='Greys')\n",
        "plt.xlabel(\"Time (in ms)\")\n",
        "plt.ylabel(\"Projection Neuron Number\")\n",
        "plt.title(\"Voltage vs Time Heatmap for Projection Neurons (PNs)\")\n",
        "plt.tight_layout()\n",
        "plt.show()"
      ]
    },
    {
      "cell_type": "code",
      "execution_count": 13,
      "metadata": {
        "colab": {
          "base_uri": "https://localhost:8080/",
          "height": 441
        },
        "id": "Psi6nmqStYrK",
        "outputId": "ed8f55cf-51d2-435f-e347-c5e808ec219b"
      },
      "outputs": [
        {
          "data": {
            "image/png": "[encoded data removed]",
            "text/plain": [
              "<Figure size 864x432 with 2 Axes>"
            ]
          },
          "metadata": {
            "needs_background": "light"
          },
          "output_type": "display_data"
        }
      ],
      "source": [
        "# Plot the membrane potentials for the LNs\n",
        "plt.figure(figsize=(12,6))\n",
        "sns.heatmap(state[::100,90:120].T,xticklabels=100,yticklabels=5,cmap='Greys')\n",
        "plt.xlabel(\"Time (in ms)\")\n",
        "plt.ylabel(\"Local Interneuron Number\")\n",
        "plt.title(\"Voltage vs Time Heatmap for Local Interneurons (LNs)\")\n",
        "plt.tight_layout()\n",
        "plt.show()"
      ]
    },
    {
      "cell_type": "markdown",
      "metadata": {
        "id": "yhq1s5yItYrK"
      },
      "source": [
        "Thus, We are capable of making models of complex realistic networks of neurons in the brains of living organisms. As an **Exercise** implement the batch and caller-runner system for this example as taught in day 5. Use this to implement a simulation of successive box input to 1/3rd of the neurons for a period of 2 seconds. Also try introducing variability to the parameters of the neurons."
      ]
    },
    {
      "cell_type": "code",
      "execution_count": 14,
      "metadata": {},
      "outputs": [],
      "source": [
        "##################################\n",
        "# Problem Hint for the Exercise: #\n",
        "##################################\n",
        "\n",
        "# Take a look at the \"Implementing a Runner and a Caller\" section of the Day 5 notebook.\n",
        "\n",
        "# Note the changes needed in the runner.py to run the a simulation in batches. \n",
        "# Try to copy and paste the appropriate code section from this notebook into the runner.py file.\n",
        "# Ask yourself: Do I need to change anything in the caller?"
      ]
    }
  ],
  "metadata": {
    "colab": {
      "name": "Example.ipynb",
      "provenance": []
    },
    "kernelspec": {
      "display_name": "Python 3.9.7 ('base')",
      "language": "python",
      "name": "python3"
    },
    "language_info": {
      "codemirror_mode": {
        "name": "ipython",
        "version": 3
      },
      "file_extension": ".py",
      "mimetype": "text/x-python",
      "name": "python",
      "nbconvert_exporter": "python",
      "pygments_lexer": "ipython3",
      "version": "3.9.7"
    },
    "vscode": {
      "interpreter": {
        "hash": "ad2bdc8ecc057115af97d19610ffacc2b4e99fae6737bb82f5d7fb13d2f2c186"
      }
    }
  },
  "nbformat": 4,
  "nbformat_minor": 0
}
